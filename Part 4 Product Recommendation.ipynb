{
 "cells": [
  {
   "cell_type": "markdown",
   "metadata": {},
   "source": [
    "## Comparison of Model 2 created with basic RFM model"
   ]
  },
  {
   "cell_type": "code",
   "execution_count": 1,
   "metadata": {},
   "outputs": [],
   "source": [
    "# Import The Libraries\n",
    "import pandas as pd, matplotlib.pyplot as plt, numpy as np, seaborn as sns, scipy as sp, warnings\n",
    "warnings.filterwarnings(\"ignore\")\n",
    "import pickle\n",
    "from sklearn.metrics import silhouette_samples,silhouette_score\n",
    "from sklearn.cluster import KMeans\n",
    "from sklearn.preprocessing import MinMaxScaler"
   ]
  },
  {
   "cell_type": "code",
   "execution_count": 2,
   "metadata": {},
   "outputs": [],
   "source": [
    "filename = 'Method2_Model.sav'\n",
    "kmeans = pickle.load(open(filename, 'rb'))"
   ]
  },
  {
   "cell_type": "code",
   "execution_count": 3,
   "metadata": {},
   "outputs": [
    {
     "name": "stdout",
     "output_type": "stream",
     "text": [
      "0    3594\n",
      "2    1503\n",
      "1     781\n",
      "Name: cluster_final, dtype: int64\n"
     ]
    }
   ],
   "source": [
    "#read prod category and rfm data\n",
    "prod_cat = pd.read_pickle('PCA_RED_DESC.pkl')\n",
    "rfm = pd.read_pickle('rfm.pkl')\n",
    "final_data = pd.merge(prod_cat,rfm,on='Customer ID')\n",
    "final_data_new = pd.merge(prod_cat,rfm,on='Customer ID')\n",
    "final_data.drop(['RFM_Segment','Customer ID','R','F','M','Final_Price','RFM_Score'],axis = 'columns',inplace=True)\n",
    "final_data.rename(columns={0:'0',1:'1',2:'2',3:'3',4:'4',5:'5'})\n",
    "\n",
    "#Rescaling\n",
    "numeric_columns = final_data.columns.values.tolist()\n",
    "scaler = MinMaxScaler() \n",
    "final_data[numeric_columns] = scaler.fit_transform(final_data[numeric_columns])\n",
    "scores_2 = []\n",
    "\n",
    "range_values = range(1, 20)\n",
    "\n",
    "labels = kmeans.labels_\n",
    "y_kmeans = kmeans.fit_predict(final_data)\n",
    "cluster = pd.concat([final_data_new, pd.DataFrame({'cluster_final':labels})], axis = 1)\n",
    "print(cluster['cluster_final'].value_counts())"
   ]
  },
  {
   "cell_type": "code",
   "execution_count": 4,
   "metadata": {},
   "outputs": [],
   "source": [
    "#datasets for comparison\n",
    "dataset=pd.read_excel('C:/Personal/NUIG/Project-DA/online_retail_II.xlsx',sheet_name=None)\n",
    "data_before = dataset['Year 2009-2010']\n",
    "data_after = dataset['Year 2010-2011']"
   ]
  },
  {
   "cell_type": "code",
   "execution_count": 73,
   "metadata": {},
   "outputs": [],
   "source": [
    "#select one customer in both datasets\n",
    "#get the cluster of that customer\n",
    "#recommend top 20 customer wala thing\n",
    "#remove all descriptions he already bought\n",
    "#check in after dataset how many matches"
   ]
  },
  {
   "cell_type": "code",
   "execution_count": 5,
   "metadata": {},
   "outputs": [],
   "source": [
    "#remove all customers with NA customer ID\n",
    "data_before = data_before[data_before['Customer ID'].notna()]\n",
    "data_after = data_after[data_after['Customer ID'].notna()]"
   ]
  },
  {
   "cell_type": "code",
   "execution_count": 49,
   "metadata": {},
   "outputs": [],
   "source": [
    "#functions for model 1 and baseline model\n",
    "def M1(customer,model,data,df):\n",
    "    cluster = cluster[cluster['Customer ID'] == cust]\n",
    "    #get the customers of each cluster\n",
    "    if cluster['cluster_final'].item() == 0:\n",
    "        d = model.transform(data)[:, 0]\n",
    "    elif cluster['cluster_final'].item() == 1:\n",
    "        d = model.transform(data)[:, 1]\n",
    "    else:\n",
    "        d = model.transform(data)[:, 2]\n",
    "    return d\n",
    "def M2(customer,model,data,df):\n",
    "    cluster = cluster[cluster['Customer ID'] == cust]\n",
    "    if cluster['cluster_final'].item() == 0:\n",
    "        d = model.transform(data)[:, 0]\n",
    "    elif cluster['cluster_final'].item() == 1:\n",
    "        d = model.transform(data)[:, 1]\n",
    "    else:\n",
    "        d = model.transform(data)[:, 2]\n",
    "    return d\n"
   ]
  },
  {
   "cell_type": "code",
   "execution_count": 67,
   "metadata": {},
   "outputs": [],
   "source": [
    "def prod_recom(customer,model,data,df,M):\n",
    "    percent_match = []\n",
    "    for cust in customer:\n",
    "        if cust in data_after['Customer ID']:\n",
    "            if(M == 'M1'):\n",
    "                d = M1(customer,model,data,df) #d has the customers in each cluster\n",
    "            else:\n",
    "                d = M2(customer,model, data,df)\n",
    "            #select 20 nearest points to that cluster and get their indices\n",
    "            ind = np.argsort(d)[::][:30]\n",
    "            #get the data of these 30 customers\n",
    "            data_recom_id = df[df.index.isin(ind)]\n",
    "            #get the desc of that customer before recommending\n",
    "            data_bf = data_before[data_before['Customer ID'] == cust]['Description'].apply(str).unique()\n",
    "            #results of recommendation\n",
    "            data_recom = data_recom_id.merge(data_before, on='Customer ID', how='left')\n",
    "            descriptions=data_recom['Description'].apply(str).unique()\n",
    "            \n",
    "            #remove the products that are already bought\n",
    "            des_final = np.setdiff1d(descriptions,data_bf)\n",
    "            \n",
    "            #evaluate with data_after\n",
    "            data_input = df[df['Customer ID'] == cust]\n",
    "            data_after_1 = data_input.merge(data_after, on='Customer ID', how='left')\n",
    "            descriptions_after=data_after_1['Description'].apply(str).unique()\n",
    "            percent = len([x for x in descriptions_after if x in des_final])/len(descriptions_after)\n",
    "            percent_match.append(percent)\n",
    "        else:\n",
    "            a=1\n",
    "        \n",
    "    avg = sum(percent_match)/len(percent_match) #accuracy\n",
    "    return avg"
   ]
  },
  {
   "cell_type": "markdown",
   "metadata": {},
   "source": [
    "#### Baseline model (RFM)"
   ]
  },
  {
   "cell_type": "code",
   "execution_count": 54,
   "metadata": {},
   "outputs": [
    {
     "name": "stdout",
     "output_type": "stream",
     "text": [
      "1    2129\n",
      "2    1985\n",
      "0    1764\n",
      "Name: cluster_final, dtype: int64\n",
      "score de silhouette: 0.680\n"
     ]
    }
   ],
   "source": [
    "#read prod category and rfm data\n",
    "prod_cat = pd.read_pickle('PCA_RED_DESC.pkl')\n",
    "rfm = pd.read_pickle('rfm.pkl')\n",
    "final_data_1 = pd.merge(prod_cat,rfm,on='Customer ID')\n",
    "final_data_1_new = pd.merge(prod_cat,rfm,on='Customer ID')\n",
    "final_data_1.rename(columns={0:'0',1:'1',2:'2',3:'3',4:'4',5:'5'})\n",
    "final_data_1.drop(['RFM_Segment','Customer ID','R','F','M','Final_Price',0,1,2,3,4,5],axis = 'columns',inplace=True)\n",
    "#Rescaling\n",
    "numeric_columns = final_data_1.columns.values.tolist()\n",
    "scaler = MinMaxScaler() \n",
    "final_data_1[numeric_columns] = scaler.fit_transform(final_data_1[numeric_columns])\n",
    "scores_2 = []\n",
    "\n",
    "range_values = range(1, 20)\n",
    "\n",
    "for i in range_values:\n",
    "    \n",
    "    kmeans_1 = KMeans(n_clusters= i)\n",
    "    kmeans_1.fit(final_data_1)\n",
    "    scores_2.append(kmeans_1.inertia_)\n",
    "kmeans_1 = KMeans(3)\n",
    "kmeans_1.fit(final_data_1)\n",
    "labels_1 = kmeans_1.labels_\n",
    "y_kmeans_1 = kmeans_1.fit_predict(final_data_1)\n",
    "cluster_1 = pd.concat([final_data_1_new, pd.DataFrame({'cluster_final':labels_1})], axis = 1)\n",
    "print(cluster_1['cluster_final'].value_counts())\n",
    "silhouette_avg = silhouette_score(final_data, y_kmeans)\n",
    "print('score de silhouette: {:<.3f}'.format(silhouette_avg))"
   ]
  },
  {
   "cell_type": "code",
   "execution_count": 94,
   "metadata": {},
   "outputs": [
    {
     "name": "stdout",
     "output_type": "stream",
     "text": [
      "score de silhouette: 0.685\n"
     ]
    }
   ],
   "source": [
    "from sklearn.metrics import silhouette_samples,silhouette_score\n",
    "silhouette_avg = silhouette_score(final_data_1, y_kmeans_1)\n",
    "print('score de silhouette: {:<.3f}'.format(silhouette_avg))"
   ]
  },
  {
   "cell_type": "code",
   "execution_count": 95,
   "metadata": {
    "scrolled": true
   },
   "outputs": [
    {
     "data": {
      "image/png": "[encoded data removed]",
      "text/plain": [
       "<Figure size 432x288 with 1 Axes>"
      ]
     },
     "metadata": {},
     "output_type": "display_data"
    }
   ],
   "source": [
    "from sklearn.decomposition import PCA\n",
    "pca = PCA(n_components = 2)\n",
    "prin_comp = pca.fit_transform(final_data_1)\n",
    "plt.scatter(prin_comp[:,0],prin_comp[:,1],c=labels,cmap=\"plasma\")\n",
    "ax = plt.gca()\n",
    "ax.set_aspect(1) "
   ]
  },
  {
   "cell_type": "code",
   "execution_count": 96,
   "metadata": {},
   "outputs": [
    {
     "data": {
      "image/png": "[encoded data removed]",
      "text/plain": [
       "<Figure size 432x288 with 1 Axes>"
      ]
     },
     "metadata": {},
     "output_type": "display_data"
    }
   ],
   "source": [
    "#reference: https://dzone.com/articles/kmeans-silhouette-score-explained-with-python-exam\n",
    "sample_silhouette_values = silhouette_samples(final_data_1, y_kmeans_1)\n",
    "sns.reset_orig\n",
    "sns.set_style(\"white\")\n",
    "\n",
    "fig, (ax1) = plt.subplots(1, 1)\n",
    "y_lower = 10\n",
    "for i in range(3):\n",
    "    ith_cluster_silhouette_values = \\\n",
    "        sample_silhouette_values[y_kmeans_1 == i]\n",
    "\n",
    "    ith_cluster_silhouette_values.sort()\n",
    "\n",
    "    size_cluster_i = ith_cluster_silhouette_values.shape[0]\n",
    "    y_upper = y_lower + size_cluster_i\n",
    "\n",
    "    color = cm.nipy_spectral(float(i) / 3)\n",
    "    ax1.fill_betweenx(np.arange(y_lower, y_upper),\n",
    "                      0, ith_cluster_silhouette_values,\n",
    "                      facecolor=color, edgecolor=color, alpha=0.7)\n",
    "\n",
    "    ax1.text(-0.05, y_lower + 0.5 * size_cluster_i, str(i))\n",
    "\n",
    "    y_lower = y_upper + 10  # 10 for the 0 samples\n",
    "\n",
    "ax1.set_xlabel(\"The silhouette coefficient values\")\n",
    "ax1.set_ylabel(\"Cluster label\")\n",
    "ax1.grid(False)\n",
    "ax1.axvline(x=silhouette_avg, color=\"red\", linestyle=\"--\")\n",
    "\n",
    "ax1.set_yticks([])\n",
    "ax1.set_xticks([-0.1, 0, 0.2, 0.4, 0.6, 0.8, 1])\n",
    "ax.set_aspect(1) \n",
    "plt.show()"
   ]
  },
  {
   "cell_type": "markdown",
   "metadata": {},
   "source": [
    "#### Call Recommendation function for both models"
   ]
  },
  {
   "cell_type": "code",
   "execution_count": 73,
   "metadata": {},
   "outputs": [],
   "source": [
    "per_list_m1 = []\n",
    "per_list_m2 = []\n",
    "for i in range(0,5): #5 iterations\n",
    "    cust_before = (data_before.sample(n=20)['Customer ID']).tolist()\n",
    "    per_list_m1.append(prod_recom(cust_before,kmeans,final_data,cluster,'M1'))\n",
    "    per_list_m2.append(prod_recom(cust_before,kmeans_1,final_data_1,cluster_1,'M2'))\n",
    "    "
   ]
  },
  {
   "cell_type": "code",
   "execution_count": 74,
   "metadata": {},
   "outputs": [
    {
     "data": {
      "text/plain": [
       "[0.2394392749885469,\n",
       " 0.19216987311007405,\n",
       " 0.239058676584245,\n",
       " 0.2310685680951811,\n",
       " 0.33084445553733494]"
      ]
     },
     "execution_count": 74,
     "metadata": {},
     "output_type": "execute_result"
    }
   ],
   "source": [
    "#accuracy for model 1\n",
    "per_list_m1"
   ]
  },
  {
   "cell_type": "code",
   "execution_count": 76,
   "metadata": {},
   "outputs": [
    {
     "data": {
      "text/plain": [
       "[0.16028125705761942,\n",
       " 0.0901433072408238,\n",
       " 0.09445473125314874,\n",
       " 0.10433965807182703,\n",
       " 0.22456528579719728]"
      ]
     },
     "execution_count": 76,
     "metadata": {},
     "output_type": "execute_result"
    }
   ],
   "source": [
    "#accuracy for baseline model\n",
    "per_list_m2"
   ]
  },
  {
   "cell_type": "code",
   "execution_count": null,
   "metadata": {},
   "outputs": [],
   "source": []
  }
 ],
 "metadata": {
  "kernelspec": {
   "display_name": "Python 3",
   "language": "python",
   "name": "python3"
  },
  "language_info": {
   "codemirror_mode": {
    "name": "ipython",
    "version": 3
   },
   "file_extension": ".py",
   "mimetype": "text/x-python",
   "name": "python",
   "nbconvert_exporter": "python",
   "pygments_lexer": "ipython3",
   "version": "3.8.5"
  }
 },
 "nbformat": 4,
 "nbformat_minor": 4
}
